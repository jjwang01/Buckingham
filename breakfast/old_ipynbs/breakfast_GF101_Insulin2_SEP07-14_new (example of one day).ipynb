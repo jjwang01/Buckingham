{
 "cells": [
  {
   "cell_type": "markdown",
   "metadata": {},
   "source": [
    "This notebook goes through how I'm parsing the data one step at a time, for Patient GF101, Insulin1, Aug24-31. Hopefully I'll be able to get to the plotted graph by the end of this notebook."
   ]
  },
  {
   "cell_type": "code",
   "execution_count": 1,
   "metadata": {
    "scrolled": true
   },
   "outputs": [
    {
     "name": "stdout",
     "output_type": "stream",
     "text": [
      "670GF-1-01\n",
      "            Date_Time     Subject  Week       Meal  Rating\n",
      "3 2018-09-11 08:21:00  670GF-1-01     2  Breakfast       1\n"
     ]
    },
    {
     "name": "stderr",
     "output_type": "stream",
     "text": [
      "/Users/justinwang/anaconda3/envs/kundaje/lib/python3.7/site-packages/pandas/util/_decorators.py:188: FutureWarning: The `sheetname` keyword is deprecated, use `sheet_name` instead\n",
      "  return func(*args, **kwargs)\n"
     ]
    }
   ],
   "source": [
    "# EVERYTHING WRT BOLUS\n",
    "\n",
    "import pandas as pd\n",
    "import numpy as np\n",
    "import sys\n",
    "\n",
    "u_cols = ['Date', 'Time', 'Timestamp','Bolus Type', 'Bolus Volume Selected (U)', 'Bolus Volume Delivered (U)', 'Sensor Glucose (mg/dL)']\n",
    "filename = '670GF101_Insulin2_Carelink_SEP07-14_new.csv'\n",
    "filename2 = 'Fiasp 670G Meal Scoring_MD Predictions.xlsx' #excel file\n",
    "patient = filename[:5] + '-' + filename[5] + '-' + filename[6:8]\n",
    "print (patient)\n",
    "\n",
    "data = pd.read_csv(\n",
    "                    filename, \n",
    "                    skiprows=range(11),\n",
    "                    usecols=u_cols,\n",
    "                    )\n",
    "data['Date'] = pd.to_datetime(data['Date'])\n",
    "data['Timestamp'] = pd.to_datetime(data['Timestamp'])\n",
    "begin_date = data.iloc[1]['Date']\n",
    "end_date = data.iloc[-1]['Date']\n",
    "\n",
    "# get bolus time\n",
    "bolus = pd.read_excel(filename2, sheetname='Sheet1', parse_dates=[['Date', 'Time']])\n",
    "bolus = bolus.loc[:, ~bolus.columns.str.contains('^Unnamed')]\n",
    "bolus = bolus[(bolus['Subject'] == patient) & (bolus['Date_Time'] >= begin_date) & (bolus['Date_Time'] <= end_date) & (bolus['Meal'] == 'Breakfast')]\n",
    "print(bolus.head())\n",
    "# drop all the rows that don't give us any valuable information regarding blood glucose and insulin boluses\n",
    "data = data.dropna(thresh=4)\n",
    "data = data.reset_index()"
   ]
  },
  {
   "cell_type": "markdown",
   "metadata": {},
   "source": [
    "I've loaded the csv into the DataFrame \"data\" using only the columns I deemed necessary. I also got rid of the first few rows because they aren't formatted the same way that the rest of the file is."
   ]
  },
  {
   "cell_type": "code",
   "execution_count": 2,
   "metadata": {
    "scrolled": true
   },
   "outputs": [
    {
     "data": {
      "text/html": [
       "<div>\n",
       "<style scoped>\n",
       "    .dataframe tbody tr th:only-of-type {\n",
       "        vertical-align: middle;\n",
       "    }\n",
       "\n",
       "    .dataframe tbody tr th {\n",
       "        vertical-align: top;\n",
       "    }\n",
       "\n",
       "    .dataframe thead th {\n",
       "        text-align: right;\n",
       "    }\n",
       "</style>\n",
       "<table border=\"1\" class=\"dataframe\">\n",
       "  <thead>\n",
       "    <tr style=\"text-align: right;\">\n",
       "      <th></th>\n",
       "      <th>index</th>\n",
       "      <th>Date</th>\n",
       "      <th>Time</th>\n",
       "      <th>Timestamp</th>\n",
       "      <th>Bolus Type</th>\n",
       "      <th>Bolus Volume Selected (U)</th>\n",
       "      <th>Bolus Volume Delivered (U)</th>\n",
       "      <th>Sensor Glucose (mg/dL)</th>\n",
       "    </tr>\n",
       "  </thead>\n",
       "  <tbody>\n",
       "    <tr>\n",
       "      <th>0</th>\n",
       "      <td>17</td>\n",
       "      <td>2018-09-07</td>\n",
       "      <td>00:04:18</td>\n",
       "      <td>2018-09-07 00:04:18</td>\n",
       "      <td>NaN</td>\n",
       "      <td>NaN</td>\n",
       "      <td>NaN</td>\n",
       "      <td>146.0</td>\n",
       "    </tr>\n",
       "    <tr>\n",
       "      <th>1</th>\n",
       "      <td>27</td>\n",
       "      <td>2018-09-07</td>\n",
       "      <td>00:09:18</td>\n",
       "      <td>2018-09-07 00:09:18</td>\n",
       "      <td>NaN</td>\n",
       "      <td>NaN</td>\n",
       "      <td>NaN</td>\n",
       "      <td>147.0</td>\n",
       "    </tr>\n",
       "    <tr>\n",
       "      <th>2</th>\n",
       "      <td>37</td>\n",
       "      <td>2018-09-07</td>\n",
       "      <td>00:14:18</td>\n",
       "      <td>2018-09-07 00:14:18</td>\n",
       "      <td>NaN</td>\n",
       "      <td>NaN</td>\n",
       "      <td>NaN</td>\n",
       "      <td>148.0</td>\n",
       "    </tr>\n",
       "    <tr>\n",
       "      <th>3</th>\n",
       "      <td>47</td>\n",
       "      <td>2018-09-07</td>\n",
       "      <td>00:19:18</td>\n",
       "      <td>2018-09-07 00:19:18</td>\n",
       "      <td>NaN</td>\n",
       "      <td>NaN</td>\n",
       "      <td>NaN</td>\n",
       "      <td>148.0</td>\n",
       "    </tr>\n",
       "    <tr>\n",
       "      <th>4</th>\n",
       "      <td>57</td>\n",
       "      <td>2018-09-07</td>\n",
       "      <td>00:24:18</td>\n",
       "      <td>2018-09-07 00:24:18</td>\n",
       "      <td>NaN</td>\n",
       "      <td>NaN</td>\n",
       "      <td>NaN</td>\n",
       "      <td>148.0</td>\n",
       "    </tr>\n",
       "  </tbody>\n",
       "</table>\n",
       "</div>"
      ],
      "text/plain": [
       "   index       Date      Time           Timestamp Bolus Type  \\\n",
       "0     17 2018-09-07  00:04:18 2018-09-07 00:04:18        NaN   \n",
       "1     27 2018-09-07  00:09:18 2018-09-07 00:09:18        NaN   \n",
       "2     37 2018-09-07  00:14:18 2018-09-07 00:14:18        NaN   \n",
       "3     47 2018-09-07  00:19:18 2018-09-07 00:19:18        NaN   \n",
       "4     57 2018-09-07  00:24:18 2018-09-07 00:24:18        NaN   \n",
       "\n",
       "   Bolus Volume Selected (U)  Bolus Volume Delivered (U)  \\\n",
       "0                        NaN                         NaN   \n",
       "1                        NaN                         NaN   \n",
       "2                        NaN                         NaN   \n",
       "3                        NaN                         NaN   \n",
       "4                        NaN                         NaN   \n",
       "\n",
       "   Sensor Glucose (mg/dL)  \n",
       "0                   146.0  \n",
       "1                   147.0  \n",
       "2                   148.0  \n",
       "3                   148.0  \n",
       "4                   148.0  "
      ]
     },
     "execution_count": 2,
     "metadata": {},
     "output_type": "execute_result"
    }
   ],
   "source": [
    "# off by one -- on Excel file indexing starts with 1, but indexing starts with 0 on pandas\n",
    "data.head()"
   ]
  },
  {
   "cell_type": "code",
   "execution_count": 17,
   "metadata": {},
   "outputs": [
    {
     "name": "stdout",
     "output_type": "stream",
     "text": [
      "      index       Date      Time           Timestamp Bolus Type  \\\n",
      "1876  13531 2018-09-11  07:24:38 2018-09-11 07:24:38        NaN   \n",
      "1878  13542 2018-09-11  07:29:38 2018-09-11 07:29:38        NaN   \n",
      "1880  13553 2018-09-11  07:34:38 2018-09-11 07:34:38        NaN   \n",
      "1882  13564 2018-09-11  07:39:38 2018-09-11 07:39:38        NaN   \n",
      "1884  13580 2018-09-11  07:44:38 2018-09-11 07:44:38        NaN   \n",
      "\n",
      "      Bolus Volume Selected (U)  Bolus Volume Delivered (U)  \\\n",
      "1876                        NaN                         NaN   \n",
      "1878                        NaN                         NaN   \n",
      "1880                        NaN                         NaN   \n",
      "1882                        NaN                         NaN   \n",
      "1884                        NaN                         NaN   \n",
      "\n",
      "      Sensor Glucose (mg/dL)        Time_delta  \n",
      "1876                   143.0 -1 days +23:03:38  \n",
      "1878                   147.0 -1 days +23:08:38  \n",
      "1880                   153.0 -1 days +23:13:38  \n",
      "1882                   161.0 -1 days +23:18:38  \n",
      "1884                   162.0 -1 days +23:23:38  \n"
     ]
    },
    {
     "name": "stderr",
     "output_type": "stream",
     "text": [
      "/Users/justinwang/anaconda3/envs/kundaje/lib/python3.7/site-packages/ipykernel_launcher.py:8: FutureWarning: Comparing Series of datetimes with 'datetime.date'.  Currently, the\n",
      "'datetime.date' is coerced to a datetime. In the future pandas will\n",
      "not coerce, and 'the values will not compare equal to the\n",
      "'datetime.date'. To retain the current behavior, convert the\n",
      "'datetime.date' to a datetime with 'pd.Timestamp'.\n",
      "  \n"
     ]
    },
    {
     "data": {
      "image/png": "[encoded data removed]",
      "text/plain": [
       "<Figure size 432x288 with 1 Axes>"
      ]
     },
     "metadata": {
      "needs_background": "light"
     },
     "output_type": "display_data"
    }
   ],
   "source": [
    "%matplotlib inline\n",
    "\n",
    "import datetime\n",
    "import matplotlib.pyplot as plt\n",
    "\n",
    "meal = data[(data['Date'] == bolus.iloc[0]['Date_Time'].date())\n",
    "             & (data['Timestamp'] >= bolus.iloc[0]['Date_Time'] - datetime.timedelta(hours=1)) \n",
    "             & (data['Timestamp'] <= bolus.iloc[0]['Date_Time'] + datetime.timedelta(hours=3))]\n",
    "meal = meal.dropna(subset=['Sensor Glucose (mg/dL)'])\n",
    "meal['Time_delta'] = meal['Timestamp'] - bolus.iloc[0]['Date_Time']\n",
    "print(meal.head())\n",
    "\n",
    "ax = meal.plot(kind='line', x ='Time_delta', y='Sensor Glucose (mg/dL)', color='red')\n",
    "plt.ylim(0,300)\n",
    "plt.show()"
   ]
  },
  {
   "cell_type": "code",
   "execution_count": 4,
   "metadata": {},
   "outputs": [],
   "source": [
    "possible_baseline_glucoses = meal[(meal['Timestamp'] >= bolus.iloc[0]['Date_Time'] - datetime.timedelta(minutes=20)) & \n",
    "                                      (meal['Timestamp'] <= (bolus.iloc[0]['Date_Time'] + datetime.timedelta(minutes=5))) & \n",
    "                                      ((meal['Sensor Glucose (mg/dL)']).isnull() == False)]\n",
    "\n",
    "baseline_glucose = 0\n",
    "min_time_diff = datetime.timedelta(hours=1)\n",
    "# for each possible baseline value, check which timestamp is closest to insulin bolus time\n",
    "for index, possible_baseline in possible_baseline_glucoses.iterrows():\n",
    "    time_diff = abs(possible_baseline['Timestamp'] - bolus.iloc[0]['Date_Time'])\n",
    "    if time_diff < min_time_diff:\n",
    "        min_time_diff = time_diff\n",
    "        baseline_glucose = possible_baseline['Sensor Glucose (mg/dL)']\n"
   ]
  },
  {
   "cell_type": "code",
   "execution_count": 12,
   "metadata": {},
   "outputs": [
    {
     "name": "stdout",
     "output_type": "stream",
     "text": [
      "[            Date_Time     Subject  Week       Meal  Rating\n",
      "3 2018-09-11 08:21:00  670GF-1-01     2  Breakfast       1, Timestamp('2018-09-11 07:24:38'), 161.0, 163.0, 2.0, Timestamp('2018-09-11 07:54:38'), 137.0, -24.0, Timestamp('2018-09-11 08:54:38'), Timestamp('2018-09-11 07:24:38'), -58.0]\n",
      "      index       Date      Time           Timestamp Bolus Type  \\\n",
      "1876  13531 2018-09-11  07:24:38 2018-09-11 07:24:38        NaN   \n",
      "1878  13542 2018-09-11  07:29:38 2018-09-11 07:29:38        NaN   \n",
      "1880  13553 2018-09-11  07:34:38 2018-09-11 07:34:38        NaN   \n",
      "1882  13564 2018-09-11  07:39:38 2018-09-11 07:39:38        NaN   \n",
      "1884  13580 2018-09-11  07:44:38 2018-09-11 07:44:38        NaN   \n",
      "1885  13590 2018-09-11  07:49:38 2018-09-11 07:49:38        NaN   \n",
      "1886  13601 2018-09-11  07:54:38 2018-09-11 07:54:38        NaN   \n",
      "1887  13616 2018-09-11  07:59:38 2018-09-11 07:59:38        NaN   \n",
      "1889  13627 2018-09-11  08:04:38 2018-09-11 08:04:38        NaN   \n",
      "1891  13638 2018-09-11  08:09:38 2018-09-11 08:09:38        NaN   \n",
      "1893  13649 2018-09-11  08:14:38 2018-09-11 08:14:38        NaN   \n",
      "1895  13660 2018-09-11  08:19:38 2018-09-11 08:19:38        NaN   \n",
      "1898  13684 2018-09-11  08:24:38 2018-09-11 08:24:38        NaN   \n",
      "1899  13694 2018-09-11  08:29:38 2018-09-11 08:29:38        NaN   \n",
      "1901  13705 2018-09-11  08:34:38 2018-09-11 08:34:38        NaN   \n",
      "1903  13716 2018-09-11  08:39:38 2018-09-11 08:39:38        NaN   \n",
      "1904  13726 2018-09-11  08:44:38 2018-09-11 08:44:38        NaN   \n",
      "1905  13736 2018-09-11  08:49:38 2018-09-11 08:49:38        NaN   \n",
      "1906  13746 2018-09-11  08:54:38 2018-09-11 08:54:38        NaN   \n",
      "\n",
      "      Bolus Volume Selected (U)  Bolus Volume Delivered (U)  \\\n",
      "1876                        NaN                         NaN   \n",
      "1878                        NaN                         NaN   \n",
      "1880                        NaN                         NaN   \n",
      "1882                        NaN                         NaN   \n",
      "1884                        NaN                         NaN   \n",
      "1885                        NaN                         NaN   \n",
      "1886                        NaN                         NaN   \n",
      "1887                        NaN                         NaN   \n",
      "1889                        NaN                         NaN   \n",
      "1891                        NaN                         NaN   \n",
      "1893                        NaN                         NaN   \n",
      "1895                        NaN                         NaN   \n",
      "1898                        NaN                         NaN   \n",
      "1899                        NaN                         NaN   \n",
      "1901                        NaN                         NaN   \n",
      "1903                        NaN                         NaN   \n",
      "1904                        NaN                         NaN   \n",
      "1905                        NaN                         NaN   \n",
      "1906                        NaN                         NaN   \n",
      "\n",
      "      Sensor Glucose (mg/dL) Time_delta  Glucose_delta  \n",
      "1876                   143.0   00:00:00          -18.0  \n",
      "1878                   147.0   00:05:00          -14.0  \n",
      "1880                   153.0   00:10:00           -8.0  \n",
      "1882                   161.0   00:15:00            0.0  \n",
      "1884                   162.0   00:20:00            1.0  \n",
      "1885                   162.0   00:25:00            1.0  \n",
      "1886                   163.0   00:30:00            2.0  \n",
      "1887                   162.0   00:35:00            1.0  \n",
      "1889                   162.0   00:40:00            1.0  \n",
      "1891                   161.0   00:45:00            0.0  \n",
      "1893                   159.0   00:50:00           -2.0  \n",
      "1895                   161.0   00:55:00            0.0  \n",
      "1898                   158.0   01:00:00           -3.0  \n",
      "1899                   156.0   01:05:00           -5.0  \n",
      "1901                   162.0   01:10:00            1.0  \n",
      "1903                   161.0   01:15:00            0.0  \n",
      "1904                   158.0   01:20:00           -3.0  \n",
      "1905                   152.0   01:25:00           -9.0  \n",
      "1906                   137.0   01:30:00          -24.0  \n"
     ]
    },
    {
     "name": "stderr",
     "output_type": "stream",
     "text": [
      "/Users/justinwang/anaconda3/envs/kundaje/lib/python3.7/site-packages/ipykernel_launcher.py:34: SettingWithCopyWarning: \n",
      "A value is trying to be set on a copy of a slice from a DataFrame.\n",
      "Try using .loc[row_indexer,col_indexer] = value instead\n",
      "\n",
      "See the caveats in the documentation: http://pandas.pydata.org/pandas-docs/stable/indexing.html#indexing-view-versus-copy\n",
      "/Users/justinwang/anaconda3/envs/kundaje/lib/python3.7/site-packages/ipykernel_launcher.py:35: SettingWithCopyWarning: \n",
      "A value is trying to be set on a copy of a slice from a DataFrame.\n",
      "Try using .loc[row_indexer,col_indexer] = value instead\n",
      "\n",
      "See the caveats in the documentation: http://pandas.pydata.org/pandas-docs/stable/indexing.html#indexing-view-versus-copy\n"
     ]
    }
   ],
   "source": [
    "# within the next 1:30, we need to look for the maximum glucose level, minimum glucose level,\n",
    "# don't forget to record the T_max and T_1/2max\n",
    "bolus_time = meal.iloc[0]['Timestamp']\n",
    "glucose_max = 0\n",
    "delta_max = 0\n",
    "T_max = 0\n",
    "glucose_min = sys.maxsize\n",
    "delta_min = 0\n",
    "T_min = 0\n",
    "T_halfmax = 0\n",
    "\n",
    "meal_period = meal[(meal['Timestamp'] <= (bolus_time + datetime.timedelta(hours=1, minutes=30))) &\n",
    "                      (meal['Timestamp'] >= bolus_time)]\n",
    "\n",
    "for index, entry in meal_period.iterrows():\n",
    "    if entry['Sensor Glucose (mg/dL)'] > glucose_max:\n",
    "        glucose_max = entry['Sensor Glucose (mg/dL)']\n",
    "        T_max = entry['Timestamp']\n",
    "    if entry['Sensor Glucose (mg/dL)'] < glucose_min:\n",
    "        glucose_min = entry['Sensor Glucose (mg/dL)']\n",
    "        T_min = entry['Timestamp']\n",
    "\n",
    "delta_max = glucose_max - baseline_glucose\n",
    "delta_min = glucose_min - baseline_glucose\n",
    "\n",
    "glucose_halfmax = baseline_glucose + delta_max / 2\n",
    "for index, entry in meal_period.iterrows():\n",
    "    # captures the first instance of a glucose reading at 1/2 max\n",
    "    if (entry['Sensor Glucose (mg/dL)'] <= glucose_halfmax + 1) or (entry['Sensor Glucose (mg/dL)'] >= glucose_halfmax - 1):\n",
    "        T_halfmax = entry['Timestamp']\n",
    "        break\n",
    "\n",
    "# add new columns 'Glucose_delta' and 'Time-delta' to plot later on\n",
    "meal_period['Time_delta'] = meal_period['Timestamp'] - bolus_time\n",
    "meal_period['Glucose_delta'] = meal_period['Sensor Glucose (mg/dL)'] - baseline_glucose\n",
    "\n",
    "# calculating area under curve with scaled glucose values using numpy.trapz(array/list, dx)\n",
    "# each glucose value isn't recorded at regular intervals, so how to deal with that?\n",
    "# just using dx=1 for now\n",
    "auc = np.trapz(list(meal_period['Glucose_delta'].dropna()), dx=1) \n",
    "\n",
    "result = [bolus, bolus_time, baseline_glucose, glucose_max, delta_max, T_max, glucose_min, delta_min, T_min, T_halfmax, auc]\n",
    "print(result)\n",
    "print(meal_period)"
   ]
  },
  {
   "cell_type": "code",
   "execution_count": 15,
   "metadata": {},
   "outputs": [
    {
     "data": {
      "text/plain": [
       "<Figure size 432x288 with 0 Axes>"
      ]
     },
     "metadata": {},
     "output_type": "display_data"
    },
    {
     "data": {
      "image/png": "[encoded data removed]",
      "text/plain": [
       "<Figure size 432x288 with 1 Axes>"
      ]
     },
     "metadata": {
      "needs_background": "light"
     },
     "output_type": "display_data"
    }
   ],
   "source": [
    "plt.figure()\n",
    "\n",
    "meal_period_graph = meal_period.dropna(subset=['Glucose_delta'])\n",
    "ax = meal_period_graph.plot(kind='line', x='Time_delta', y='Glucose_delta')"
   ]
  }
 ],
 "metadata": {
  "kernelspec": {
   "display_name": "Python 3",
   "language": "python",
   "name": "python3"
  },
  "language_info": {
   "codemirror_mode": {
    "name": "ipython",
    "version": 3
   },
   "file_extension": ".py",
   "mimetype": "text/x-python",
   "name": "python",
   "nbconvert_exporter": "python",
   "pygments_lexer": "ipython3",
   "version": "3.6.8"
  }
 },
 "nbformat": 4,
 "nbformat_minor": 2
}
