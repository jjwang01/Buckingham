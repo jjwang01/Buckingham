{
 "cells": [
  {
   "cell_type": "markdown",
   "metadata": {},
   "source": [
    "This notebook goes through how I'm parsing the data one step at a time, for Patient GF101, Insulin1, Aug24-31. Hopefully I'll be able to get to the plotted graph by the end of this notebook."
   ]
  },
  {
   "cell_type": "code",
   "execution_count": 1,
   "metadata": {
    "collapsed": true,
    "scrolled": true
   },
   "outputs": [],
   "source": [
    "import pandas as pd\n",
    "import numpy as np\n",
    "import sys\n",
    "\n",
    "u_cols = ['Date', 'Time', 'Timestamp', 'Bolus Type', 'Bolus Volume Selected (U)', 'Bolus Volume Delivered (U)', 'Sensor Glucose (mg/dL)']\n",
    "filename = '670GF105_Insulin1_Carelink_SEP13-20.csv'\n",
    "\n",
    "data = pd.read_csv(\n",
    "                    filename, \n",
    "                    skiprows=range(11),\n",
    "                    usecols=u_cols,\n",
    "                    )\n",
    "\n",
    "# drop all the rows that don't give us any valuable information regarding blood glucose and insulin boluses\n",
    "data = data.dropna(thresh=4)\n",
    "data = data.reset_index()"
   ]
  },
  {
   "cell_type": "markdown",
   "metadata": {},
   "source": [
    "I've loaded the csv into the DataFrame \"data\" using only the columns I deemed necessary. I also got rid of the first few rows because they aren't formatted the same way that the rest of the file is."
   ]
  },
  {
   "cell_type": "code",
   "execution_count": 2,
   "metadata": {},
   "outputs": [
    {
     "data": {
      "text/html": [
       "<div>\n",
       "<style>\n",
       "    .dataframe thead tr:only-child th {\n",
       "        text-align: right;\n",
       "    }\n",
       "\n",
       "    .dataframe thead th {\n",
       "        text-align: left;\n",
       "    }\n",
       "\n",
       "    .dataframe tbody tr th {\n",
       "        vertical-align: top;\n",
       "    }\n",
       "</style>\n",
       "<table border=\"1\" class=\"dataframe\">\n",
       "  <thead>\n",
       "    <tr style=\"text-align: right;\">\n",
       "      <th></th>\n",
       "      <th>index</th>\n",
       "      <th>Date</th>\n",
       "      <th>Time</th>\n",
       "      <th>Timestamp</th>\n",
       "      <th>Bolus Type</th>\n",
       "      <th>Bolus Volume Selected (U)</th>\n",
       "      <th>Bolus Volume Delivered (U)</th>\n",
       "      <th>Sensor Glucose (mg/dL)</th>\n",
       "    </tr>\n",
       "  </thead>\n",
       "  <tbody>\n",
       "    <tr>\n",
       "      <th>0</th>\n",
       "      <td>12</td>\n",
       "      <td>9/13/18</td>\n",
       "      <td>00:00:30</td>\n",
       "      <td>9/13/18 00:00:30</td>\n",
       "      <td>NaN</td>\n",
       "      <td>NaN</td>\n",
       "      <td>NaN</td>\n",
       "      <td>234.0</td>\n",
       "    </tr>\n",
       "    <tr>\n",
       "      <th>1</th>\n",
       "      <td>18</td>\n",
       "      <td>9/13/18</td>\n",
       "      <td>00:01:14</td>\n",
       "      <td>9/13/18 00:01:14</td>\n",
       "      <td>Normal</td>\n",
       "      <td>0.125</td>\n",
       "      <td>0.125</td>\n",
       "      <td>NaN</td>\n",
       "    </tr>\n",
       "    <tr>\n",
       "      <th>2</th>\n",
       "      <td>23</td>\n",
       "      <td>9/13/18</td>\n",
       "      <td>00:05:30</td>\n",
       "      <td>9/13/18 00:05:30</td>\n",
       "      <td>NaN</td>\n",
       "      <td>NaN</td>\n",
       "      <td>NaN</td>\n",
       "      <td>238.0</td>\n",
       "    </tr>\n",
       "    <tr>\n",
       "      <th>3</th>\n",
       "      <td>28</td>\n",
       "      <td>9/13/18</td>\n",
       "      <td>00:05:58</td>\n",
       "      <td>9/13/18 00:05:58</td>\n",
       "      <td>Normal</td>\n",
       "      <td>0.125</td>\n",
       "      <td>0.125</td>\n",
       "      <td>NaN</td>\n",
       "    </tr>\n",
       "    <tr>\n",
       "      <th>4</th>\n",
       "      <td>43</td>\n",
       "      <td>9/13/18</td>\n",
       "      <td>00:10:30</td>\n",
       "      <td>9/13/18 00:10:30</td>\n",
       "      <td>NaN</td>\n",
       "      <td>NaN</td>\n",
       "      <td>NaN</td>\n",
       "      <td>231.0</td>\n",
       "    </tr>\n",
       "  </tbody>\n",
       "</table>\n",
       "</div>"
      ],
      "text/plain": [
       "   index     Date      Time         Timestamp Bolus Type  \\\n",
       "0     12  9/13/18  00:00:30  9/13/18 00:00:30        NaN   \n",
       "1     18  9/13/18  00:01:14  9/13/18 00:01:14     Normal   \n",
       "2     23  9/13/18  00:05:30  9/13/18 00:05:30        NaN   \n",
       "3     28  9/13/18  00:05:58  9/13/18 00:05:58     Normal   \n",
       "4     43  9/13/18  00:10:30  9/13/18 00:10:30        NaN   \n",
       "\n",
       "   Bolus Volume Selected (U)  Bolus Volume Delivered (U)  \\\n",
       "0                        NaN                         NaN   \n",
       "1                      0.125                       0.125   \n",
       "2                        NaN                         NaN   \n",
       "3                      0.125                       0.125   \n",
       "4                        NaN                         NaN   \n",
       "\n",
       "   Sensor Glucose (mg/dL)  \n",
       "0                   234.0  \n",
       "1                     NaN  \n",
       "2                   238.0  \n",
       "3                     NaN  \n",
       "4                   231.0  "
      ]
     },
     "execution_count": 2,
     "metadata": {},
     "output_type": "execute_result"
    }
   ],
   "source": [
    "# off by one -- on Excel file indexing starts with 1, but indexing starts with 0 on pandas\n",
    "data.head()"
   ]
  },
  {
   "cell_type": "markdown",
   "metadata": {},
   "source": [
    "Note that the cells that don't contain any values in Excel are shown as \"Not a Number\" in pandas. I used integer-location based indexing to make sure that the bolus volumes that I need are in the DataFrame."
   ]
  },
  {
   "cell_type": "markdown",
   "metadata": {},
   "source": [
    "There's a lot of waste data in the csv files, specifically the days when the patient is not on their meal challenge. Thankfully, there's an Excel file with dates during which the subjects are on their meal challenges."
   ]
  },
  {
   "cell_type": "code",
   "execution_count": 3,
   "metadata": {},
   "outputs": [
    {
     "data": {
      "text/html": [
       "<div>\n",
       "<style>\n",
       "    .dataframe thead tr:only-child th {\n",
       "        text-align: right;\n",
       "    }\n",
       "\n",
       "    .dataframe thead th {\n",
       "        text-align: left;\n",
       "    }\n",
       "\n",
       "    .dataframe tbody tr th {\n",
       "        vertical-align: top;\n",
       "    }\n",
       "</style>\n",
       "<table border=\"1\" class=\"dataframe\">\n",
       "  <thead>\n",
       "    <tr style=\"text-align: right;\">\n",
       "      <th></th>\n",
       "      <th>Subject ID</th>\n",
       "      <th>Week 1</th>\n",
       "      <th>Week 2</th>\n",
       "      <th>Meal Dates</th>\n",
       "      <th>Week 1.1</th>\n",
       "      <th>Week 2.1</th>\n",
       "      <th>Meal Dates.1</th>\n",
       "      <th>Unnamed: 7</th>\n",
       "      <th>insulin 2 is second use of a blinded insulin</th>\n",
       "    </tr>\n",
       "  </thead>\n",
       "  <tbody>\n",
       "    <tr>\n",
       "      <th>0</th>\n",
       "      <td>670GF101</td>\n",
       "      <td>2018-08-17</td>\n",
       "      <td>2018-08-24</td>\n",
       "      <td>08/29-08/31</td>\n",
       "      <td>2018-08-31</td>\n",
       "      <td>2018-09-07</td>\n",
       "      <td>09/11-09/13</td>\n",
       "      <td>NaN</td>\n",
       "      <td>NaN</td>\n",
       "    </tr>\n",
       "    <tr>\n",
       "      <th>1</th>\n",
       "      <td>670GF102</td>\n",
       "      <td>2018-08-17</td>\n",
       "      <td>2018-08-24</td>\n",
       "      <td>08/21-08/23</td>\n",
       "      <td>2018-08-31</td>\n",
       "      <td>2018-09-07</td>\n",
       "      <td>09/11-09/13</td>\n",
       "      <td>NaN</td>\n",
       "      <td>NaN</td>\n",
       "    </tr>\n",
       "    <tr>\n",
       "      <th>2</th>\n",
       "      <td>670GF103</td>\n",
       "      <td>2018-08-17</td>\n",
       "      <td>2018-08-24</td>\n",
       "      <td>08/21-08/23</td>\n",
       "      <td>2018-08-31</td>\n",
       "      <td>2018-09-07</td>\n",
       "      <td>09/11-09/13</td>\n",
       "      <td>NaN</td>\n",
       "      <td>NaN</td>\n",
       "    </tr>\n",
       "    <tr>\n",
       "      <th>3</th>\n",
       "      <td>670GF104</td>\n",
       "      <td>2018-08-29</td>\n",
       "      <td>2018-09-06</td>\n",
       "      <td>09/11-09/13</td>\n",
       "      <td>2018-09-13</td>\n",
       "      <td>2018-09-20</td>\n",
       "      <td>09/24-09/26</td>\n",
       "      <td>NaN</td>\n",
       "      <td>NaN</td>\n",
       "    </tr>\n",
       "    <tr>\n",
       "      <th>4</th>\n",
       "      <td>670GF105</td>\n",
       "      <td>2018-09-06</td>\n",
       "      <td>2018-09-13</td>\n",
       "      <td>09/17-09/19</td>\n",
       "      <td>2018-09-20</td>\n",
       "      <td>2018-09-27</td>\n",
       "      <td>10/01-10/03</td>\n",
       "      <td>NaN</td>\n",
       "      <td>NaN</td>\n",
       "    </tr>\n",
       "  </tbody>\n",
       "</table>\n",
       "</div>"
      ],
      "text/plain": [
       "  Subject ID     Week 1     Week 2   Meal Dates   Week 1.1   Week 2.1  \\\n",
       "0   670GF101 2018-08-17 2018-08-24  08/29-08/31 2018-08-31 2018-09-07   \n",
       "1   670GF102 2018-08-17 2018-08-24  08/21-08/23 2018-08-31 2018-09-07   \n",
       "2   670GF103 2018-08-17 2018-08-24  08/21-08/23 2018-08-31 2018-09-07   \n",
       "3   670GF104 2018-08-29 2018-09-06  09/11-09/13 2018-09-13 2018-09-20   \n",
       "4   670GF105 2018-09-06 2018-09-13  09/17-09/19 2018-09-20 2018-09-27   \n",
       "\n",
       "  Meal Dates.1  Unnamed: 7  insulin 2 is second use of a blinded insulin  \n",
       "0  09/11-09/13         NaN                                           NaN  \n",
       "1  09/11-09/13         NaN                                           NaN  \n",
       "2  09/11-09/13         NaN                                           NaN  \n",
       "3  09/24-09/26         NaN                                           NaN  \n",
       "4  10/01-10/03         NaN                                           NaN  "
      ]
     },
     "execution_count": 3,
     "metadata": {},
     "output_type": "execute_result"
    }
   ],
   "source": [
    "from pandas import ExcelFile\n",
    "\n",
    "# for this specific patient, 670GF101, the meal dates for Insulin 1 were from 8/29 to 8/31\n",
    "# the first and second row contain column names, so we skip those\n",
    "ex = pd.read_excel(\n",
    "                    '670G Fiasp Subject Dates.xlsx', \n",
    "                    sheet_name='Sheet1', \n",
    "                    skiprows=range(1)\n",
    "                    )\n",
    "\n",
    "ex.head()"
   ]
  },
  {
   "cell_type": "code",
   "execution_count": 4,
   "metadata": {},
   "outputs": [
    {
     "name": "stdout",
     "output_type": "stream",
     "text": [
      "09/17/18 09/19/18\n"
     ]
    }
   ],
   "source": [
    "start = \"\"\n",
    "end = \"\"\n",
    "\n",
    "# iterate through the first column to match patient name\n",
    "for row in ex.itertuples():\n",
    "    # the first element in each row/tuple will be the index\n",
    "    if row[1] == filename[:8]:\n",
    "        if filename[9:17] == 'Insulin1':\n",
    "            start = row[4][0:5]\n",
    "            end = row[4][6:]\n",
    "        elif filename[9:17] == 'Insulin2':\n",
    "            start = row[7][0:5]\n",
    "            end = row[7][6:]\n",
    "        \n",
    "# add years\n",
    "start += \"/18\"\n",
    "end += \"/18\"\n",
    "        \n",
    "print(start,end) "
   ]
  },
  {
   "cell_type": "markdown",
   "metadata": {},
   "source": [
    "Now I can just check for these dates within in the DataFrame \"data\", and then remove all the values that are not associated with those dates."
   ]
  },
  {
   "cell_type": "code",
   "execution_count": 5,
   "metadata": {},
   "outputs": [
    {
     "name": "stdout",
     "output_type": "stream",
     "text": [
      "2018-09-17 00:00:00 2018-09-19 00:00:00\n"
     ]
    },
    {
     "data": {
      "text/html": [
       "<div>\n",
       "<style>\n",
       "    .dataframe thead tr:only-child th {\n",
       "        text-align: right;\n",
       "    }\n",
       "\n",
       "    .dataframe thead th {\n",
       "        text-align: left;\n",
       "    }\n",
       "\n",
       "    .dataframe tbody tr th {\n",
       "        vertical-align: top;\n",
       "    }\n",
       "</style>\n",
       "<table border=\"1\" class=\"dataframe\">\n",
       "  <thead>\n",
       "    <tr style=\"text-align: right;\">\n",
       "      <th></th>\n",
       "      <th>index</th>\n",
       "      <th>Date</th>\n",
       "      <th>Time</th>\n",
       "      <th>Timestamp</th>\n",
       "      <th>Bolus Type</th>\n",
       "      <th>Bolus Volume Selected (U)</th>\n",
       "      <th>Bolus Volume Delivered (U)</th>\n",
       "      <th>Sensor Glucose (mg/dL)</th>\n",
       "    </tr>\n",
       "  </thead>\n",
       "  <tbody>\n",
       "    <tr>\n",
       "      <th>0</th>\n",
       "      <td>12</td>\n",
       "      <td>2018-09-13</td>\n",
       "      <td>00:00:30</td>\n",
       "      <td>2018-09-13 00:00:30</td>\n",
       "      <td>NaN</td>\n",
       "      <td>NaN</td>\n",
       "      <td>NaN</td>\n",
       "      <td>234.0</td>\n",
       "    </tr>\n",
       "    <tr>\n",
       "      <th>1</th>\n",
       "      <td>18</td>\n",
       "      <td>2018-09-13</td>\n",
       "      <td>00:01:14</td>\n",
       "      <td>2018-09-13 00:01:14</td>\n",
       "      <td>Normal</td>\n",
       "      <td>0.125</td>\n",
       "      <td>0.125</td>\n",
       "      <td>NaN</td>\n",
       "    </tr>\n",
       "    <tr>\n",
       "      <th>2</th>\n",
       "      <td>23</td>\n",
       "      <td>2018-09-13</td>\n",
       "      <td>00:05:30</td>\n",
       "      <td>2018-09-13 00:05:30</td>\n",
       "      <td>NaN</td>\n",
       "      <td>NaN</td>\n",
       "      <td>NaN</td>\n",
       "      <td>238.0</td>\n",
       "    </tr>\n",
       "    <tr>\n",
       "      <th>3</th>\n",
       "      <td>28</td>\n",
       "      <td>2018-09-13</td>\n",
       "      <td>00:05:58</td>\n",
       "      <td>2018-09-13 00:05:58</td>\n",
       "      <td>Normal</td>\n",
       "      <td>0.125</td>\n",
       "      <td>0.125</td>\n",
       "      <td>NaN</td>\n",
       "    </tr>\n",
       "    <tr>\n",
       "      <th>4</th>\n",
       "      <td>43</td>\n",
       "      <td>2018-09-13</td>\n",
       "      <td>00:10:30</td>\n",
       "      <td>2018-09-13 00:10:30</td>\n",
       "      <td>NaN</td>\n",
       "      <td>NaN</td>\n",
       "      <td>NaN</td>\n",
       "      <td>231.0</td>\n",
       "    </tr>\n",
       "  </tbody>\n",
       "</table>\n",
       "</div>"
      ],
      "text/plain": [
       "   index       Date      Time           Timestamp Bolus Type  \\\n",
       "0     12 2018-09-13  00:00:30 2018-09-13 00:00:30        NaN   \n",
       "1     18 2018-09-13  00:01:14 2018-09-13 00:01:14     Normal   \n",
       "2     23 2018-09-13  00:05:30 2018-09-13 00:05:30        NaN   \n",
       "3     28 2018-09-13  00:05:58 2018-09-13 00:05:58     Normal   \n",
       "4     43 2018-09-13  00:10:30 2018-09-13 00:10:30        NaN   \n",
       "\n",
       "   Bolus Volume Selected (U)  Bolus Volume Delivered (U)  \\\n",
       "0                        NaN                         NaN   \n",
       "1                      0.125                       0.125   \n",
       "2                        NaN                         NaN   \n",
       "3                      0.125                       0.125   \n",
       "4                        NaN                         NaN   \n",
       "\n",
       "   Sensor Glucose (mg/dL)  \n",
       "0                   234.0  \n",
       "1                     NaN  \n",
       "2                   238.0  \n",
       "3                     NaN  \n",
       "4                   231.0  "
      ]
     },
     "execution_count": 5,
     "metadata": {},
     "output_type": "execute_result"
    }
   ],
   "source": [
    "import datetime\n",
    "from datetime import datetime, time, timedelta\n",
    "\n",
    "# convert start and end into datetime objects\n",
    "start = datetime.strptime(start, \"%m/%d/%y\")\n",
    "end = datetime.strptime(end, \"%m/%d/%y\")\n",
    "\n",
    "print (start, end)\n",
    "\n",
    "data['Date'] = pd.to_datetime(data['Date'])\n",
    "data['Time'] = pd.to_datetime(data['Time']).dt.time\n",
    "data['Timestamp'] = pd.to_datetime(data['Timestamp'])\n",
    "\n",
    "data.head()"
   ]
  },
  {
   "cell_type": "markdown",
   "metadata": {},
   "source": [
    "After converting all dates to a datetime object, we can iterate through and see which dates are within the range we want."
   ]
  },
  {
   "cell_type": "code",
   "execution_count": 6,
   "metadata": {},
   "outputs": [
    {
     "name": "stdout",
     "output_type": "stream",
     "text": [
      "2018-09-20 00:00:00\n",
      "1744 2912\n"
     ]
    }
   ],
   "source": [
    "start_date = start\n",
    "end_date = end + timedelta(days=1)\n",
    "print(end_date)\n",
    "\n",
    "start_row = 0\n",
    "end_row = 0\n",
    "\n",
    "# track index of the first occurrence of our start date and the last occurrence of our end date\n",
    "# e.g. the first occurrence of the end date + 1\n",
    "for index, row in data.iterrows():\n",
    "    if row[1] == start_date:\n",
    "        start_row = index\n",
    "        break\n",
    "for index, row in data.iterrows():\n",
    "    if row[1] == end_date:\n",
    "        end_row = index\n",
    "        break\n",
    "        \n",
    "# last date on csv was the last date of meal trial\n",
    "if end_row == 0:\n",
    "    end_row = data.tail(1).index.item()\n",
    "    \n",
    "print(start_row, end_row)\n"
   ]
  },
  {
   "cell_type": "markdown",
   "metadata": {},
   "source": [
    "Get rid of all the junk dates we don't need to look at."
   ]
  },
  {
   "cell_type": "code",
   "execution_count": 7,
   "metadata": {
    "scrolled": true
   },
   "outputs": [
    {
     "data": {
      "text/html": [
       "<div>\n",
       "<style>\n",
       "    .dataframe thead tr:only-child th {\n",
       "        text-align: right;\n",
       "    }\n",
       "\n",
       "    .dataframe thead th {\n",
       "        text-align: left;\n",
       "    }\n",
       "\n",
       "    .dataframe tbody tr th {\n",
       "        vertical-align: top;\n",
       "    }\n",
       "</style>\n",
       "<table border=\"1\" class=\"dataframe\">\n",
       "  <thead>\n",
       "    <tr style=\"text-align: right;\">\n",
       "      <th></th>\n",
       "      <th>index</th>\n",
       "      <th>Date</th>\n",
       "      <th>Time</th>\n",
       "      <th>Timestamp</th>\n",
       "      <th>Bolus Type</th>\n",
       "      <th>Bolus Volume Selected (U)</th>\n",
       "      <th>Bolus Volume Delivered (U)</th>\n",
       "      <th>Sensor Glucose (mg/dL)</th>\n",
       "    </tr>\n",
       "  </thead>\n",
       "  <tbody>\n",
       "    <tr>\n",
       "      <th>1744</th>\n",
       "      <td>12830</td>\n",
       "      <td>2018-09-17</td>\n",
       "      <td>00:00:54</td>\n",
       "      <td>2018-09-17 00:00:54</td>\n",
       "      <td>NaN</td>\n",
       "      <td>NaN</td>\n",
       "      <td>NaN</td>\n",
       "      <td>153.0</td>\n",
       "    </tr>\n",
       "    <tr>\n",
       "      <th>1745</th>\n",
       "      <td>12836</td>\n",
       "      <td>2018-09-17</td>\n",
       "      <td>00:01:14</td>\n",
       "      <td>2018-09-17 00:01:14</td>\n",
       "      <td>Normal</td>\n",
       "      <td>0.175</td>\n",
       "      <td>0.175</td>\n",
       "      <td>NaN</td>\n",
       "    </tr>\n",
       "    <tr>\n",
       "      <th>1746</th>\n",
       "      <td>12848</td>\n",
       "      <td>2018-09-17</td>\n",
       "      <td>00:06:07</td>\n",
       "      <td>2018-09-17 00:06:07</td>\n",
       "      <td>Normal</td>\n",
       "      <td>0.025</td>\n",
       "      <td>0.025</td>\n",
       "      <td>NaN</td>\n",
       "    </tr>\n",
       "    <tr>\n",
       "      <th>1747</th>\n",
       "      <td>12863</td>\n",
       "      <td>2018-09-17</td>\n",
       "      <td>00:07:04</td>\n",
       "      <td>2018-09-17 00:07:04</td>\n",
       "      <td>Normal</td>\n",
       "      <td>0.300</td>\n",
       "      <td>0.300</td>\n",
       "      <td>NaN</td>\n",
       "    </tr>\n",
       "    <tr>\n",
       "      <th>1748</th>\n",
       "      <td>12867</td>\n",
       "      <td>2018-09-17</td>\n",
       "      <td>00:10:54</td>\n",
       "      <td>2018-09-17 00:10:54</td>\n",
       "      <td>NaN</td>\n",
       "      <td>NaN</td>\n",
       "      <td>NaN</td>\n",
       "      <td>152.0</td>\n",
       "    </tr>\n",
       "  </tbody>\n",
       "</table>\n",
       "</div>"
      ],
      "text/plain": [
       "      index       Date      Time           Timestamp Bolus Type  \\\n",
       "1744  12830 2018-09-17  00:00:54 2018-09-17 00:00:54        NaN   \n",
       "1745  12836 2018-09-17  00:01:14 2018-09-17 00:01:14     Normal   \n",
       "1746  12848 2018-09-17  00:06:07 2018-09-17 00:06:07     Normal   \n",
       "1747  12863 2018-09-17  00:07:04 2018-09-17 00:07:04     Normal   \n",
       "1748  12867 2018-09-17  00:10:54 2018-09-17 00:10:54        NaN   \n",
       "\n",
       "      Bolus Volume Selected (U)  Bolus Volume Delivered (U)  \\\n",
       "1744                        NaN                         NaN   \n",
       "1745                      0.175                       0.175   \n",
       "1746                      0.025                       0.025   \n",
       "1747                      0.300                       0.300   \n",
       "1748                        NaN                         NaN   \n",
       "\n",
       "      Sensor Glucose (mg/dL)  \n",
       "1744                   153.0  \n",
       "1745                     NaN  \n",
       "1746                     NaN  \n",
       "1747                     NaN  \n",
       "1748                   152.0  "
      ]
     },
     "execution_count": 7,
     "metadata": {},
     "output_type": "execute_result"
    }
   ],
   "source": [
    "data_extracted = data[start_row:end_row]\n",
    "data_extracted.head()"
   ]
  },
  {
   "cell_type": "markdown",
   "metadata": {
    "collapsed": true
   },
   "source": [
    "We should segment our meal period into three separate days, breakfast and dinner, then gather statistics about them individually. This notebook will focus on dinner."
   ]
  },
  {
   "cell_type": "code",
   "execution_count": 8,
   "metadata": {
    "collapsed": true
   },
   "outputs": [],
   "source": [
    "data_day1 = data_extracted[data_extracted.Date == start]\n",
    "data_day2 = data_extracted[data_extracted.Date == start + timedelta(days=1)]\n",
    "data_day3 = data_extracted[data_extracted.Date == end]\n",
    "\n",
    "dates = [data_day1, data_day2, data_day3]\n",
    "\n",
    "# create an array of dates that have only glucose values\n",
    "data_day1_glucose_graph = data_day1.dropna(subset=['Sensor Glucose (mg/dL)'])\n",
    "data_day2_glucose_graph = data_day2.dropna(subset=['Sensor Glucose (mg/dL)'])\n",
    "data_day3_glucose_graph = data_day3.dropna(subset=['Sensor Glucose (mg/dL)'])\n",
    "\n",
    "dates_glucose_graph = [data_day1_glucose_graph, data_day2_glucose_graph, data_day3_glucose_graph]"
   ]
  },
  {
   "cell_type": "markdown",
   "metadata": {},
   "source": [
    "Just graph out data first!"
   ]
  },
  {
   "cell_type": "code",
   "execution_count": 9,
   "metadata": {},
   "outputs": [
    {
     "data": {
      "text/plain": [
       "(0, 300)"
      ]
     },
     "execution_count": 9,
     "metadata": {},
     "output_type": "execute_result"
    },
    {
     "data": {
      "image/png": "[encoded data removed]",
      "text/plain": [
       "<matplotlib.figure.Figure at 0x1097da7b8>"
      ]
     },
     "metadata": {},
     "output_type": "display_data"
    }
   ],
   "source": [
    "%matplotlib inline\n",
    "import matplotlib.pyplot as plt\n",
    "\n",
    "ax = dates_glucose_graph[0].plot(kind='line', x='Time', y='Sensor Glucose (mg/dL)', color='red')\n",
    "dates_glucose_graph[1].plot(ax=ax, kind='line', x='Time', y='Sensor Glucose (mg/dL)', color='green')\n",
    "dates_glucose_graph[2].plot(ax=ax, kind='line', x='Time', y='Sensor Glucose (mg/dL)', color='blue')\n",
    "plt.ylim(0,300)"
   ]
  },
  {
   "cell_type": "markdown",
   "metadata": {},
   "source": [
    "For each day, we want to gather the breakfast bolus metric, the time the bolus is taken, etc. We also have to keep in mind that some breakfasts will have to be thrown out if there's another bolus within 3 hours of the breakfast bolus.\n",
    "\n",
    "Results were recorded in order of [bolus, bolus_time, baseline_glucose, glucose_max, delta_max, T_max, glucose_min, delta_min, T_min, T_halfmax].\n",
    "\n",
    "Once we have a DataFrame for each meal (breakfast_period), starting with the initial breakfast bolus and ending after an hour and a half, we can scale all glucose values according to the baseline glucose and all timestamps according to the time the insulin bolus was delivered."
   ]
  },
  {
   "cell_type": "code",
   "execution_count": 10,
   "metadata": {},
   "outputs": [
    {
     "data": {
      "text/plain": [
       "(0, 300)"
      ]
     },
     "execution_count": 10,
     "metadata": {},
     "output_type": "execute_result"
    },
    {
     "data": {
      "image/png": "[encoded data removed]",
      "text/plain": [
       "<matplotlib.figure.Figure at 0x10b51a588>"
      ]
     },
     "metadata": {},
     "output_type": "display_data"
    }
   ],
   "source": [
    "# just graph out an hour before and 3 hours after the initial bolus to see what the curves would look like\n",
    "to_graph = []\n",
    "\n",
    "for day in dates:\n",
    "    bolus_time = time(0,0,0) # will become datetime later\n",
    "    bolus_index = 0\n",
    "    \n",
    "    # find when the breakfast bolus is\n",
    "    for index, row in day.iterrows():\n",
    "    # if time of the row is in between 6:00:00 and 10:00:00, and the bolus amount is larger than 1\n",
    "        if row['Time'] <= time(10, 0, 0) and row['Time'] >= time(6, 0, 0) and row['Bolus Volume Selected (U)'] >= 1 and row['Bolus Volume Delivered (U)'] >= 1: \n",
    "            bolus_time = row['Timestamp']\n",
    "            bolus_index = index\n",
    "            graph = (day[(day['Timestamp'] <= (day.loc[bolus_index]['Timestamp'] + timedelta(hours=3))) &\n",
    "                          (day['Timestamp'] >= (day.loc[bolus_index]['Timestamp'] - timedelta(hours=1)))])\n",
    "            graph = graph.dropna(subset=['Sensor Glucose (mg/dL)'])\n",
    "            graph['Time_delta'] = graph['Timestamp'] - bolus_time\n",
    "            to_graph.append(graph)\n",
    "            \n",
    "    \n",
    "ax = to_graph[0].plot(kind='line', x='Time_delta', y='Sensor Glucose (mg/dL)', color='red')     \n",
    "to_graph[1].plot(ax=ax, kind='line', x='Time_delta', y='Sensor Glucose (mg/dL)', color='green')\n",
    "to_graph[2].plot(ax=ax, kind='line', x='Time_delta', y='Sensor Glucose (mg/dL)', color='blue')\n",
    "plt.ylim(0,300)\n",
    "    \n",
    "            "
   ]
  },
  {
   "cell_type": "code",
   "execution_count": 11,
   "metadata": {},
   "outputs": [
    {
     "ename": "AttributeError",
     "evalue": "'list' object has no attribute 'iterrows'",
     "output_type": "error",
     "traceback": [
      "\u001b[0;31m---------------------------------------------------------------------------\u001b[0m",
      "\u001b[0;31mAttributeError\u001b[0m                            Traceback (most recent call last)",
      "\u001b[0;32m<ipython-input-11-c9c765adc010>\u001b[0m in \u001b[0;36m<module>\u001b[0;34m()\u001b[0m\n\u001b[1;32m     43\u001b[0m     \u001b[0;31m# for each possible baseline value, check which timestamp is closest to insulin bolus time\u001b[0m\u001b[0;34m\u001b[0m\u001b[0;34m\u001b[0m\u001b[0m\n\u001b[1;32m     44\u001b[0m     \u001b[0;32mif\u001b[0m \u001b[0;32mnot\u001b[0m \u001b[0msecond_bolus_found\u001b[0m\u001b[0;34m:\u001b[0m\u001b[0;34m\u001b[0m\u001b[0m\n\u001b[0;32m---> 45\u001b[0;31m         \u001b[0;32mfor\u001b[0m \u001b[0mindex\u001b[0m\u001b[0;34m,\u001b[0m \u001b[0mpossible_baseline\u001b[0m \u001b[0;32min\u001b[0m \u001b[0mpossible_baseline_glucoses\u001b[0m\u001b[0;34m.\u001b[0m\u001b[0miterrows\u001b[0m\u001b[0;34m(\u001b[0m\u001b[0;34m)\u001b[0m\u001b[0;34m:\u001b[0m\u001b[0;34m\u001b[0m\u001b[0m\n\u001b[0m\u001b[1;32m     46\u001b[0m             \u001b[0;31m# using time objects instead of datetime objects b/c looping through different days\u001b[0m\u001b[0;34m\u001b[0m\u001b[0;34m\u001b[0m\u001b[0m\n\u001b[1;32m     47\u001b[0m             \u001b[0mtime_diff\u001b[0m \u001b[0;34m=\u001b[0m \u001b[0mabs\u001b[0m\u001b[0;34m(\u001b[0m\u001b[0mdatetime\u001b[0m\u001b[0;34m.\u001b[0m\u001b[0mcombine\u001b[0m\u001b[0;34m(\u001b[0m\u001b[0mdatetime\u001b[0m\u001b[0;34m.\u001b[0m\u001b[0mmin\u001b[0m\u001b[0;34m,\u001b[0m \u001b[0mpossible_baseline\u001b[0m\u001b[0;34m[\u001b[0m\u001b[0;34m'Time'\u001b[0m\u001b[0;34m]\u001b[0m\u001b[0;34m)\u001b[0m \u001b[0;34m-\u001b[0m \u001b[0mdatetime\u001b[0m\u001b[0;34m.\u001b[0m\u001b[0mcombine\u001b[0m\u001b[0;34m(\u001b[0m\u001b[0mdatetime\u001b[0m\u001b[0;34m.\u001b[0m\u001b[0mmin\u001b[0m\u001b[0;34m,\u001b[0m \u001b[0mbolus_time\u001b[0m\u001b[0;34m.\u001b[0m\u001b[0mtime\u001b[0m\u001b[0;34m(\u001b[0m\u001b[0;34m)\u001b[0m\u001b[0;34m)\u001b[0m\u001b[0;34m)\u001b[0m\u001b[0;34m\u001b[0m\u001b[0m\n",
      "\u001b[0;31mAttributeError\u001b[0m: 'list' object has no attribute 'iterrows'"
     ]
    }
   ],
   "source": [
    "# day 1 has a sensor error b/c calibration wasn't conducted in time\n",
    "# watch out for day 3, that should be eliminated! one bolus @ 7:58:54 and another @ 8:53:05\n",
    "\n",
    "breakfasts = []\n",
    "results = []\n",
    "\n",
    "for day in dates:\n",
    "    bolus = 0\n",
    "    bolus_time = time(0,0,0)\n",
    "    baseline_glucose = 0\n",
    "    bolus_index = 0\n",
    "    possible_baseline_glucoses = []\n",
    "    second_bolus_found = False\n",
    "    \n",
    "    # get the breakfast bolus metric -- should be from 6 am to 10 am\n",
    "    for index, row in day.iterrows():\n",
    "        if second_bolus_found:\n",
    "            bolus = 0\n",
    "            bolus_time = time(0, 0, 0)\n",
    "            baseline_glucose = 0\n",
    "            possible_baseline_glucoses = []\n",
    "            break\n",
    "        \n",
    "        # if time of the row is in between 6:00:00 and 10:00:00, and the bolus amount is larger than 1\n",
    "        if row['Time'] <= time(10, 0, 0) and row['Time'] >= time(6, 0, 0) and row['Bolus Volume Selected (U)'] >= 1 and row['Bolus Volume Delivered (U)'] >= 1: \n",
    "            # check if there's already been a bolus registered -- in that case, skip this day\n",
    "            if bolus > 0:\n",
    "                second_bolus_found = True\n",
    "            # if not, record the metric, timestamp, and glucose level at that time\n",
    "            else:\n",
    "                bolus = row['Bolus Volume Delivered (U)']\n",
    "                bolus_time = row['Timestamp']\n",
    "                bolus_index = index\n",
    "                # glucose_baseline must be within 20 minutes beforehand or 5 minutes after the bolus\n",
    "                possible_baseline_glucoses = day[(day['Timestamp'] >= (row['Timestamp'] - timedelta(minutes=20))) & \n",
    "                                      (day['Timestamp'] <= (row['Timestamp'] + timedelta(minutes=5))) & \n",
    "                                      ((day['Sensor Glucose (mg/dL)']).isnull() == False)]\n",
    "            \n",
    "        if row['Time'] > time(10, 0, 0):\n",
    "            break\n",
    "\n",
    "    min_time_diff = timedelta.max\n",
    "    # for each possible baseline value, check which timestamp is closest to insulin bolus time\n",
    "    if not second_bolus_found:\n",
    "        for index, possible_baseline in possible_baseline_glucoses.iterrows():\n",
    "            # using time objects instead of datetime objects b/c looping through different days\n",
    "            time_diff = abs(datetime.combine(datetime.min, possible_baseline['Time']) - datetime.combine(datetime.min, bolus_time.time()))\n",
    "            if time_diff < min_time_diff:\n",
    "                min_time_diff = time_diff\n",
    "                baseline_glucose = possible_baseline['Sensor Glucose (mg/dL)']\n",
    "    else:\n",
    "        # TODO: what to do for results of N/A dates?\n",
    "        break\n",
    "  \n",
    "    # within the next 1:30, we need to look for the maximum glucose level, minimum glucose level,\n",
    "    # don't forget to record the T_max and T_1/2max\n",
    "    glucose_max = 0\n",
    "    delta_max = 0\n",
    "    T_max = 0\n",
    "    glucose_min = sys.maxsize\n",
    "    delta_min = 0\n",
    "    T_min = 0\n",
    "    T_halfmax = 0\n",
    "    \n",
    "    breakfast_period = day[(day['Timestamp'] <= (day.loc[bolus_index]['Timestamp'] + timedelta(hours=1, minutes=30))) &\n",
    "                          (day['Timestamp'] >= day.loc[bolus_index]['Timestamp'])]\n",
    "    \n",
    "    for index, entry in breakfast_period.iterrows():\n",
    "        if entry['Sensor Glucose (mg/dL)'] > glucose_max:\n",
    "            glucose_max = entry['Sensor Glucose (mg/dL)']\n",
    "            T_max = entry['Timestamp']\n",
    "        if entry['Sensor Glucose (mg/dL)'] < glucose_min:\n",
    "            glucose_min = entry['Sensor Glucose (mg/dL)']\n",
    "            T_min = entry['Timestamp']\n",
    "            \n",
    "    delta_max = glucose_max - baseline_glucose\n",
    "    delta_min = glucose_min - baseline_glucose\n",
    "    \n",
    "    glucose_halfmax = baseline_glucose + delta_max / 2\n",
    "    for index, entry in breakfast_period.iterrows():\n",
    "        # captures the first instance of a glucose reading at 1/2 max\n",
    "        if (entry['Sensor Glucose (mg/dL)'] <= glucose_halfmax + 1) or (entry['Sensor Glucose (mg/dL)'] >= glucose_halfmax - 1):\n",
    "            T_halfmax = entry['Timestamp']\n",
    "            break\n",
    "    \n",
    "    # add new columns 'Glucose_delta' and 'Time-delta' to plot later on\n",
    "    breakfast_period['Time_delta'] = breakfast_period['Timestamp'] - bolus_time\n",
    "    breakfast_period['Glucose_delta'] = breakfast_period['Sensor Glucose (mg/dL)'] - baseline_glucose\n",
    "    \n",
    "    # calculating area under curve with scaled glucose values using numpy.trapz(array/list, dx)\n",
    "    # each glucose value isn't recorded at regular intervals, so how to deal with that?\n",
    "    # just using dx=1 for now\n",
    "    auc = np.trapz(list(breakfast_period['Glucose_delta'].dropna()), dx=1) \n",
    "    \n",
    "    result = [bolus, bolus_time, baseline_glucose, glucose_max, delta_max, T_max, glucose_min, delta_min, T_min, T_halfmax, auc]\n",
    "    results.append(result)\n",
    "\n",
    "    breakfasts.append(breakfast_period)\n",
    "\n",
    "    "
   ]
  },
  {
   "cell_type": "markdown",
   "metadata": {},
   "source": [
    "Finally, we can plot them on the same graph."
   ]
  },
  {
   "cell_type": "code",
   "execution_count": null,
   "metadata": {},
   "outputs": [],
   "source": [
    "plt.figure()\n",
    "\n",
    "breakfast_period_graph_0 = breakfasts[0].dropna(subset=['Glucose_delta'])\n",
    "ax = breakfast_period_graph_0.plot(kind='line', x='Time_delta', y='Glucose_delta')\n",
    "for i in range(1, len(breakfasts)):\n",
    "    breakfast_period_graph = breakfasts[i].dropna(subset=['Glucose_delta'])\n",
    "    breakfast_period_graph.plot(ax=ax, kind='line', x='Time_delta', y='Glucose_delta')"
   ]
  }
 ],
 "metadata": {
  "kernelspec": {
   "display_name": "Python 3",
   "language": "python",
   "name": "python3"
  },
  "language_info": {
   "codemirror_mode": {
    "name": "ipython",
    "version": 3
   },
   "file_extension": ".py",
   "mimetype": "text/x-python",
   "name": "python",
   "nbconvert_exporter": "python",
   "pygments_lexer": "ipython3",
   "version": "3.6.3"
  }
 },
 "nbformat": 4,
 "nbformat_minor": 2
}
