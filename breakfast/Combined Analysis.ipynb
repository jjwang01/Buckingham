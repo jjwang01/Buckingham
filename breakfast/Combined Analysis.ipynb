{
 "cells": [
  {
   "cell_type": "code",
   "execution_count": null,
   "metadata": {},
   "outputs": [],
   "source": [
    "# EVERYTHING WRT BOLUS\n",
    "\n",
    "import pandas as pd\n",
    "import numpy as np\n",
    "import sys\n",
    "\n",
    "u_cols = ['Date', 'Time', 'Timestamp','Bolus Type', 'Bolus Volume Selected (U)', 'Bolus Volume Delivered (U)', 'Sensor Glucose (mg/dL)']\n",
    "filename = '670GF101_Insulin2_Carelink_SEP07-14_new.csv'\n",
    "filename2 = 'Fiasp 670G Meal Scoring_MD Predictions.xlsx' #excel file\n",
    "patient = filename[:5] + '-' + filename[5] + '-' + filename[6:8]\n",
    "print (patient)\n",
    "\n",
    "data = pd.read_csv(\n",
    "                    filename, \n",
    "                    skiprows=range(11),\n",
    "                    usecols=u_cols,\n",
    "                    )\n",
    "data['Date'] = pd.to_datetime(data['Date'])\n",
    "data['Timestamp'] = pd.to_datetime(data['Timestamp'])\n",
    "begin_date = data.iloc[1]['Date']\n",
    "end_date = data.iloc[-1]['Date']\n",
    "\n",
    "# get bolus time\n",
    "bolus = pd.read_excel(filename2, sheetname='Sheet1', parse_dates=[['Date', 'Time']])\n",
    "bolus = bolus.loc[:, ~bolus.columns.str.contains('^Unnamed')]\n",
    "bolus = bolus[(bolus['Subject'] == patient) & (bolus['Date_Time'] >= begin_date) & (bolus['Date_Time'] <= end_date) & (bolus['Meal'] == 'Breakfast')]\n",
    "print(bolus.head())\n",
    "# drop all the rows that don't give us any valuable information regarding blood glucose and insulin boluses\n",
    "data = data.dropna(thresh=4)\n",
    "data = data.reset_index()"
   ]
  }
 ],
 "metadata": {
  "kernelspec": {
   "display_name": "Python 3",
   "language": "python",
   "name": "python3"
  },
  "language_info": {
   "codemirror_mode": {
    "name": "ipython",
    "version": 3
   },
   "file_extension": ".py",
   "mimetype": "text/x-python",
   "name": "python",
   "nbconvert_exporter": "python",
   "pygments_lexer": "ipython3",
   "version": "3.7.3"
  }
 },
 "nbformat": 4,
 "nbformat_minor": 2
}
